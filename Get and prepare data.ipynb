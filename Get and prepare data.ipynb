{
 "cells": [
  {
   "cell_type": "code",
   "execution_count": 3,
   "id": "b386c9a5",
   "metadata": {},
   "outputs": [],
   "source": [
    "import pandas as pd\n",
    "df = pd.read_csv('https://data.wa.gov/api/views/f6w7-q2d2/rows.csv')\n",
    "df = df.drop(columns=['VIN (1-10)', 'Clean Alternative Fuel Vehicle (CAFV) Eligibility', 'Base MSRP', 'Legislative District', 'DOL Vehicle ID', 'Electric Utility', '2020 Census Tract', 'County','City','State','Postal Code'])\n",
    "df = df[df['Electric Range'] != 0]\n",
    "df.to_csv('Electric Car Data.csv', index=False)"
   ]
  }
 ],
 "metadata": {
  "kernelspec": {
   "display_name": "Python 3 (ipykernel)",
   "language": "python",
   "name": "python3"
  },
  "language_info": {
   "codemirror_mode": {
    "name": "ipython",
    "version": 3
   },
   "file_extension": ".py",
   "mimetype": "text/x-python",
   "name": "python",
   "nbconvert_exporter": "python",
   "pygments_lexer": "ipython3",
   "version": "3.9.13"
  }
 },
 "nbformat": 4,
 "nbformat_minor": 5
}
